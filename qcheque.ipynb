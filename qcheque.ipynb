{
 "cells": [
  {
   "cell_type": "code",
   "execution_count": 1,
   "metadata": {},
   "outputs": [],
   "source": [
    "import matplotlib.pyplot as plt\n",
    "import numpy as np\n",
    "from scipy.constants import pi\n",
    "import math\n",
    "\n",
    "# importing Qiskit\n",
    "import qiskit\n",
    "from qiskit import IBMQ, Aer\n",
    "from qiskit import QuantumCircuit, ClassicalRegister, QuantumRegister, execute\n",
    "\n",
    "from qiskit.providers.aer.noise import NoiseModel\n",
    "\n",
    "# import basic plot tools\n",
    "\n",
    "from qiskit.tools.visualization import plot_histogram, plot_circuit_layout\n",
    "\n",
    "from qiskit.providers.ibmq import least_busy\n",
    "\n",
    "\n",
    "import warnings\n",
    "warnings.filterwarnings('ignore')"
   ]
  },
  {
   "cell_type": "code",
   "execution_count": 2,
   "metadata": {},
   "outputs": [
    {
     "data": {
      "text/plain": [
       "<AccountProvider for IBMQ(hub='ibm-q', group='open', project='main')>"
      ]
     },
     "execution_count": 2,
     "metadata": {},
     "output_type": "execute_result"
    }
   ],
   "source": [
    "# Replace TOKEN with your string\n",
    "IBMQ.save_account('717cf61727cdb38042395c8140ffda877eedc5a316b84196c709e29869a6620ef09f9872200dc64ec870c7e5051229c976715491941396be89791d1a0ba5a803',overwrite=True)\n",
    "\n",
    "# In subsequent sessios the Token can be loaded from disk\n",
    "IBMQ.load_account()"
   ]
  },
  {
   "cell_type": "code",
   "execution_count": 3,
   "metadata": {},
   "outputs": [],
   "source": [
    "# Plot results\n",
    "def show_results(D):\n",
    "    # D is a dictionary with classical bits as keys and count as value\n",
    "    # example: D = {'000': 497, '001': 527}\n",
    "    \n",
    "    plt.bar(range(len(D)), list(D.values()), align='center')\n",
    "    plt.xticks(range(len(D)), list(D.keys()))\n",
    "    plt.show()\n",
    "    #print(D)\n",
    "    zero = 0\n",
    "    one = 0\n",
    "    for r in D:\n",
    "        if(r[1]=='0'):\n",
    "            zero += D[r]\n",
    "        else: \n",
    "            one += D[r]\n",
    "    print(\"Zero\" + str(zero/8192))\n",
    "    print(\"One\" + str(one/8192))\n",
    "\n",
    "# Execute circuit, display a histogram of the results\n",
    "def execute_locally(qc, draw_circuit=False):\n",
    "    # Compile and run the Quantum circuit on a simulator backend\n",
    "    backend_sim = Aer.get_backend('qasm_simulator')\n",
    "    job_sim = execute(qc, backend_sim,shots=8192)\n",
    "    result_sim = job_sim.result()\n",
    "    result_counts = result_sim.get_counts(qc)\n",
    "    \n",
    "    # Print the results\n",
    "    print(\"simulation: \\n\\n\", result_counts)\n",
    "    show_results(result_counts)"
   ]
  },
  {
   "cell_type": "code",
   "execution_count": null,
   "metadata": {},
   "outputs": [],
   "source": [
    "provider = IBMQ.get_provider(hub='ibm-q')\n",
    "provider.backends()\n",
    "physical_devices = provider.backends(simulator=False, operational=True)\n",
    "for backend in physical_devices:\n",
    "    print(backend.status())\n",
    "backend = least_busy(physical_devices)\n",
    "print (backend);\n",
    "real_device = backend"
   ]
  },
  {
   "cell_type": "code",
   "execution_count": null,
   "metadata": {},
   "outputs": [],
   "source": [
    "def generator(qc,qr,cr):\n",
    "    qc.h(qr[0])\n",
    "    qc.h(qr[1])\n",
    "    qc.cx(qr[1],qr[2])\n",
    "    qc.cx(qr[1],qr[3])"
   ]
  },
  {
   "cell_type": "code",
   "execution_count": null,
   "metadata": {},
   "outputs": [],
   "source": [
    "def sign(qc,qr,cr):\n",
    "    qc.t(qr[0])\n",
    "    qc.h(qr[0])\n",
    "    qc.s(qr[0])\n",
    "    qc.cx(qr[0],qr[1])\n",
    "    qc.h(qr[0])\n",
    "    qc.cx(qr[1],qr[2])\n",
    "    qc.cz(qr[0],qr[2])\n",
    "    "
   ]
  },
  {
   "cell_type": "code",
   "execution_count": null,
   "metadata": {},
   "outputs": [],
   "source": [
    "qc.measure(qr[2],cr[2])"
   ]
  }
 ],
 "metadata": {
  "kernelspec": {
   "display_name": "Python 3",
   "language": "python",
   "name": "python3"
  },
  "language_info": {
   "codemirror_mode": {
    "name": "ipython",
    "version": 3
   },
   "file_extension": ".py",
   "mimetype": "text/x-python",
   "name": "python",
   "nbconvert_exporter": "python",
   "pygments_lexer": "ipython3",
   "version": "3.8.0"
  }
 },
 "nbformat": 4,
 "nbformat_minor": 4
}

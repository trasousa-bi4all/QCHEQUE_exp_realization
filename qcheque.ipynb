{
 "cells": [
  {
   "cell_type": "markdown",
   "metadata": {},
   "source": [
    "$$\n",
    "\\textit{Computação Quântica - 2019/2020}\\\\\n",
    "\\textbf {Implementation of quantum cheque in IBM Quantum Experience}\\\\\n",
    "\\begin{align*}\n",
    "\\text{Tomás Sousa } &|| \\text{ Marco Barbosa}\\\\\n",
    "\\text{A81411 } &|| \\text{ A81428}\n",
    "\\end{align*}\n",
    "$$"
   ]
  },
  {
   "cell_type": "code",
   "execution_count": 9,
   "metadata": {},
   "outputs": [],
   "source": [
    "import matplotlib.pyplot as plt\n",
    "import numpy as np\n",
    "from scipy.constants import pi\n",
    "import math\n",
    "\n",
    "# importing Qiskit\n",
    "import qiskit\n",
    "from qiskit import IBMQ, Aer\n",
    "from qiskit import QuantumCircuit, ClassicalRegister, QuantumRegister, execute\n",
    "\n",
    "from qiskit.providers.aer.noise import NoiseModel\n",
    "\n",
    "# import basic plot tools\n",
    "\n",
    "from qiskit.tools.visualization import plot_histogram, plot_circuit_layout\n",
    "\n",
    "from qiskit.providers.ibmq import least_busy\n",
    "\n",
    "from qiskit.compiler import transpile\n",
    "\n",
    "import warnings\n",
    "warnings.filterwarnings('ignore')"
   ]
  },
  {
   "cell_type": "code",
   "execution_count": 10,
   "metadata": {},
   "outputs": [
    {
     "data": {
      "text/plain": [
       "<AccountProvider for IBMQ(hub='ibm-q', group='open', project='main')>"
      ]
     },
     "execution_count": 10,
     "metadata": {},
     "output_type": "execute_result"
    }
   ],
   "source": [
    "IBMQ.load_account()"
   ]
  },
  {
   "cell_type": "code",
   "execution_count": 74,
   "metadata": {},
   "outputs": [],
   "source": [
    "# Plot results\n",
    "def show_results(D):\n",
    "    # D is a dictionary with classical bits as keys and count as value\n",
    "    # example: D = {'000': 497, '001': 527}\n",
    "    \n",
    "    plt.bar(range(len(D)), list(D.values()), align='center')\n",
    "    plt.xticks(range(len(D)), list(D.keys()))\n",
    "    plt.show()\n",
    "    print(D)\n",
    "    zero = 0\n",
    "    one = 0\n",
    "    for r in D:\n",
    "        if(r[1]=='0'):\n",
    "            zero += D[r]\n",
    "        else: \n",
    "            one += D[r]\n",
    "    print(\"Zero\" + str(zero/8192))\n",
    "    print(\"One\" + str(one/8192))\n",
    "\n",
    "# Execute circuit, display a histogram of the results\n",
    "def execute_locally(qc, draw_circuit=False):\n",
    "    # Compile and run the Quantum circuit on a simulator backend\n",
    "    backend_sim = Aer.get_backend('qasm_simulator')\n",
    "    job_sim = execute(qc, backend_sim, shots=8192)\n",
    "    result_sim = job_sim.result()\n",
    "    result_counts = result_sim.get_counts(qc)\n",
    "    \n",
    "    # Print the results\n",
    "    print(\"simulation: \\n\\n\", result_counts)\n",
    "    show_results(result_counts)\n",
    "    \n",
    "\n",
    "def execute_locally_noisy(qc, backend, draw_circuit=False):\n",
    "    # Compile and run the Quantum circuit on a simulator backend\n",
    "    noise = NoiseModel.from_backend(backend)\n",
    "    basis_gates = noise.basis_gates\n",
    "    cmap = backend.configuration().coupling_map\n",
    "    backend_sim = Aer.get_backend('qasm_simulator')\n",
    "    job_sim = execute(qc, backend_sim, shots=8192,\n",
    "                                                  noise_model=noise,\n",
    "                                                  coupling_map=cmap,\n",
    "                                                  basis_gates = basis_gates)\n",
    "    result_sim = job_sim.result()\n",
    "    result_counts = result_sim.get_counts(qc)\n",
    "    \n",
    "    # Print the results\n",
    "    print(\"simulation: \\n\\n\", result_counts)\n",
    "    show_results(result_counts)"
   ]
  },
  {
   "cell_type": "code",
   "execution_count": 59,
   "metadata": {},
   "outputs": [],
   "source": [
    "provider = IBMQ.get_provider(hub='ibm-q-minho', group='academicprojects', project='quantalab')\n",
    "backend = provider.get_backend('ibmq_johannesburg')\n",
    "print (backend);"
   ]
  },
  {
   "cell_type": "markdown",
   "metadata": {},
   "source": [
    "### Protocol phases"
   ]
  },
  {
   "cell_type": "markdown",
   "metadata": {},
   "source": [
    "#### Generation"
   ]
  },
  {
   "cell_type": "code",
   "execution_count": 15,
   "metadata": {},
   "outputs": [],
   "source": [
    "def generator(qc,qr,cr):\n",
    "    qc.h(qr[0])\n",
    "    qc.cx(qr[0],qr[1])\n",
    "    qc.cx(qr[0],qr[2])"
   ]
  },
  {
   "cell_type": "markdown",
   "metadata": {},
   "source": [
    "#### Sign"
   ]
  },
  {
   "cell_type": "code",
   "execution_count": 41,
   "metadata": {},
   "outputs": [],
   "source": [
    "def sign(qc,qa,qr,k,id,r,M):\n",
    "    max = 32\n",
    "    step = 2*pi/max\n",
    "    rotations = hash(k+id+r+M) % max\n",
    "    qc.h(qa[0])\n",
    "    qc.u1(rotations*step,qa[0])\n",
    "    qc.barrier()\n",
    "    qc.cx(qa[0],qr[0])\n",
    "    qc.h(qa[0])\n",
    "    qc.cx(qr[0],qr[1])\n",
    "    qc.cz(qa[0],qr[1])\n",
    "    qc.barrier()\n",
    "    "
   ]
  },
  {
   "cell_type": "markdown",
   "metadata": {},
   "source": [
    "#### Verification"
   ]
  },
  {
   "cell_type": "code",
   "execution_count": 97,
   "metadata": {},
   "outputs": [],
   "source": [
    "def verify(qc,qr,qb,k,id,r,M):\n",
    "    max = 32\n",
    "    step = 2*pi/max\n",
    "    rotations = hash(k+id+r+M) % max\n",
    "    qc.h(qr[2])\n",
    "    qc.cz(qr[2],qr[1])\n",
    "    qc.barrier()\n",
    "    qc.h(qb[0])\n",
    "    qc.u1(rotations*step,qb[0])\n",
    "    qc.h(qb[1])\n",
    "    qc.cswap(qb[1],qb[0],qr[1])\n",
    "    qc.h(qb[1])\n",
    "    qc.barrier()"
   ]
  },
  {
   "cell_type": "code",
   "execution_count": 98,
   "metadata": {},
   "outputs": [],
   "source": [
    "def measure():\n",
    "    cheque.measure(qb[1],cb[0])  "
   ]
  },
  {
   "cell_type": "markdown",
   "metadata": {},
   "source": [
    "#### Circuit construction"
   ]
  },
  {
   "cell_type": "code",
   "execution_count": 79,
   "metadata": {},
   "outputs": [
    {
     "data": {
      "image/png": "[encoded data removed]",
      "text/plain": [
       "<Figure size 1244.94x565.88 with 1 Axes>"
      ]
     },
     "execution_count": 79,
     "metadata": {},
     "output_type": "execute_result"
    }
   ],
   "source": [
    "qr = QuantumRegister(3,'ghz')\n",
    "qa = QuantumRegister(1,'q  ''\\u03C8')\n",
    "qb = QuantumRegister(2,'q  \\u03C8\\'')\n",
    "cr = ClassicalRegister(3,'c\\_ghz')\n",
    "ca = ClassicalRegister(1,'c \\u03C8')\n",
    "cb = ClassicalRegister(2,'c \\u03C6')\n",
    "cheque = QuantumCircuit(qa,qr,qb,ca,cr,cb)\n",
    "generator(cheque,qr,cr)\n",
    "sign(cheque,qa,qr,\"a\",\"b\",\"c\",\"d\")\n",
    "verify(cheque,qr,qb,\"a\",\"b\",\"c\",\"d\")\n",
    "measure()\n",
    "cheque.draw(output='mpl')"
   ]
  },
  {
   "cell_type": "markdown",
   "metadata": {},
   "source": [
    "### Execution"
   ]
  },
  {
   "cell_type": "markdown",
   "metadata": {},
   "source": [
    "#### Simulator"
   ]
  },
  {
   "cell_type": "code",
   "execution_count": 50,
   "metadata": {},
   "outputs": [
    {
     "name": "stdout",
     "output_type": "stream",
     "text": [
      "simulation: \n",
      "\n",
      " {'00 000 0': 8192}\n"
     ]
    },
    {
     "data": {
      "image/png": "[encoded data removed]",
      "text/plain": [
       "<Figure size 432x288 with 1 Axes>"
      ]
     },
     "metadata": {
      "needs_background": "light"
     },
     "output_type": "display_data"
    },
    {
     "name": "stdout",
     "output_type": "stream",
     "text": [
      "{'00 000 0': 8192}\n",
      "Zero1.0\n",
      "One0.0\n"
     ]
    }
   ],
   "source": [
    "execute_locally(cheque)"
   ]
  },
  {
   "cell_type": "markdown",
   "metadata": {},
   "source": [
    "#### Simulator with noise model of IBMq-Johannesburg"
   ]
  },
  {
   "cell_type": "code",
   "execution_count": 88,
   "metadata": {},
   "outputs": [
    {
     "name": "stdout",
     "output_type": "stream",
     "text": [
      "simulation: \n",
      "\n",
      " {'00 000 0': 7197, '01 000 0': 995}\n"
     ]
    },
    {
     "data": {
      "image/png": "[encoded data removed]",
      "text/plain": [
       "<Figure size 432x288 with 1 Axes>"
      ]
     },
     "metadata": {
      "needs_background": "light"
     },
     "output_type": "display_data"
    },
    {
     "name": "stdout",
     "output_type": "stream",
     "text": [
      "{'00 000 0': 7197, '01 000 0': 995}\n",
      "Zero0.8785400390625\n",
      "One0.1214599609375\n"
     ]
    }
   ],
   "source": [
    "execute_locally_noisy(cheque_exp,backend)"
   ]
  },
  {
   "cell_type": "markdown",
   "metadata": {},
   "source": [
    "#### IBMq-Johannesburg"
   ]
  },
  {
   "cell_type": "code",
   "execution_count": 55,
   "metadata": {
    "scrolled": false
   },
   "outputs": [
    {
     "data": {
      "image/png": "[encoded data removed]",
      "text/plain": [
       "<Figure size 432x288 with 1 Axes>"
      ]
     },
     "metadata": {
      "needs_background": "light"
     },
     "output_type": "display_data"
    },
    {
     "name": "stdout",
     "output_type": "stream",
     "text": [
      "{'00 000 0': 6479, '01 000 0': 1713}\n",
      "Zero0.7908935546875\n",
      "One0.2091064453125\n"
     ]
    }
   ],
   "source": [
    "job = execute(cheque,backend, shots=8192)\n",
    "D = job.result().get_counts()\n",
    "show_results(D)"
   ]
  }
 ],
 "metadata": {
  "kernelspec": {
   "display_name": "Python 3",
   "language": "python",
   "name": "python3"
  },
  "language_info": {
   "codemirror_mode": {
    "name": "ipython",
    "version": 3
   },
   "file_extension": ".py",
   "mimetype": "text/x-python",
   "name": "python",
   "nbconvert_exporter": "python",
   "pygments_lexer": "ipython3",
   "version": "3.8.1"
  }
 },
 "nbformat": 4,
 "nbformat_minor": 4
}

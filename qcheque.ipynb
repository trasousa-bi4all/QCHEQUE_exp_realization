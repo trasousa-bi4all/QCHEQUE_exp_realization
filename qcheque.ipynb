{
 "cells": [
  {
   "cell_type": "code",
   "execution_count": 1,
   "metadata": {},
   "outputs": [],
   "source": [
    "import matplotlib.pyplot as plt\n",
    "import numpy as np\n",
    "from scipy.constants import pi\n",
    "import math\n",
    "\n",
    "# importing Qiskit\n",
    "import qiskit\n",
    "from qiskit import IBMQ, Aer\n",
    "from qiskit import QuantumCircuit, ClassicalRegister, QuantumRegister, execute\n",
    "\n",
    "from qiskit.providers.aer.noise import NoiseModel\n",
    "\n",
    "# import basic plot tools\n",
    "\n",
    "from qiskit.tools.visualization import plot_histogram, plot_circuit_layout\n",
    "\n",
    "from qiskit.providers.ibmq import least_busy\n",
    "\n",
    "\n",
    "import warnings\n",
    "warnings.filterwarnings('ignore')"
   ]
  },
  {
   "cell_type": "code",
   "execution_count": 9,
   "metadata": {},
   "outputs": [
    {
     "name": "stderr",
     "output_type": "stream",
     "text": [
      "Credentials are already in use. The existing account in the session will be replaced.\n"
     ]
    },
    {
     "data": {
      "text/plain": [
       "<AccountProvider for IBMQ(hub='ibm-q', group='open', project='main')>"
      ]
     },
     "execution_count": 9,
     "metadata": {},
     "output_type": "execute_result"
    }
   ],
   "source": [
    "# Replace TOKEN with your string\n",
    "#IBMQ.save_account('0245970821561efcabc18873a763ba09ec3305a9c5b3501ffd1f24f87d26c7e0f55652fb11dd74403ed146b4b20169ace4db11b96abcc13de56e21770f46c606',overwrite=True)\n",
    "# In subsequent sessios the Token can be loaded from disk\n",
    "IBMQ.load_account()"
   ]
  },
  {
   "cell_type": "code",
   "execution_count": 10,
   "metadata": {},
   "outputs": [],
   "source": [
    "# Plot results\n",
    "def show_results(D):\n",
    "    # D is a dictionary with classical bits as keys and count as value\n",
    "    # example: D = {'000': 497, '001': 527}\n",
    "    \n",
    "    plt.bar(range(len(D)), list(D.values()), align='center')\n",
    "    plt.xticks(range(len(D)), list(D.keys()))\n",
    "    plt.show()\n",
    "    #print(D)\n",
    "    zero = 0\n",
    "    one = 0\n",
    "    for r in D:\n",
    "        if(r[1]=='0'):\n",
    "            zero += D[r]\n",
    "        else: \n",
    "            one += D[r]\n",
    "    print(\"Zero\" + str(zero/8192))\n",
    "    print(\"One\" + str(one/8192))\n",
    "\n",
    "# Execute circuit, display a histogram of the results\n",
    "def execute_locally(qc, draw_circuit=False):\n",
    "    # Compile and run the Quantum circuit on a simulator backend\n",
    "    backend_sim = Aer.get_backend('qasm_simulator')\n",
    "    job_sim = execute(qc, backend_sim,shots=8192)\n",
    "    result_sim = job_sim.result()\n",
    "    result_counts = result_sim.get_counts(qc)\n",
    "    \n",
    "    # Print the results\n",
    "    print(\"simulation: \\n\\n\", result_counts)\n",
    "    show_results(result_counts)"
   ]
  },
  {
   "cell_type": "code",
   "execution_count": 11,
   "metadata": {},
   "outputs": [
    {
     "name": "stdout",
     "output_type": "stream",
     "text": [
      "BackendStatus(backend_name='ibmqx2', backend_version='2.0.5', operational=True, pending_jobs=2, status_msg='active')\n",
      "BackendStatus(backend_name='ibmq_16_melbourne', backend_version='2.1.0', operational=True, pending_jobs=4, status_msg='active')\n",
      "BackendStatus(backend_name='ibmq_vigo', backend_version='1.0.2', operational=True, pending_jobs=3, status_msg='active')\n",
      "BackendStatus(backend_name='ibmq_ourense', backend_version='1.0.1', operational=True, pending_jobs=1, status_msg='active')\n",
      "BackendStatus(backend_name='ibmq_london', backend_version='1.1.0', operational=True, pending_jobs=1, status_msg='active')\n",
      "BackendStatus(backend_name='ibmq_burlington', backend_version='1.1.4', operational=True, pending_jobs=1, status_msg='active')\n",
      "BackendStatus(backend_name='ibmq_essex', backend_version='1.0.1', operational=True, pending_jobs=2, status_msg='active')\n",
      "BackendStatus(backend_name='ibmq_armonk', backend_version='1.1.0', operational=True, pending_jobs=0, status_msg='active')\n",
      "BackendStatus(backend_name='ibmq_rome', backend_version='1.0.0', operational=True, pending_jobs=4, status_msg='active')\n",
      "ibmq_armonk\n"
     ]
    }
   ],
   "source": [
    "provider = IBMQ.get_provider(hub='ibm-q')\n",
    "provider.backends()\n",
    "physical_devices = provider.backends(simulator=False, operational=True)\n",
    "for backend in physical_devices:\n",
    "    print(backend.status())\n",
    "backend = least_busy(physical_devices)\n",
    "print (backend);\n",
    "real_device = backend"
   ]
  },
  {
   "cell_type": "code",
   "execution_count": 12,
   "metadata": {},
   "outputs": [],
   "source": [
    "def generator(qc,qr,cr):\n",
    "    qc.h(qr[0])\n",
    "    qc.h(qr[1])\n",
    "    qc.cx(qr[1],qr[2])\n",
    "    qc.cx(qr[1],qr[3])"
   ]
  },
  {
   "cell_type": "code",
   "execution_count": 13,
   "metadata": {},
   "outputs": [],
   "source": [
    "def sign(qc,qr,cr):\n",
    "    qc.t(qr[0])\n",
    "    qc.h(qr[0])\n",
    "    qc.s(qr[0])\n",
    "    qc.cx(qr[0],qr[1])\n",
    "    qc.h(qr[0])\n",
    "    qc.cx(qr[1],qr[2])\n",
    "    qc.cz(qr[0],qr[2])\n",
    "    "
   ]
  },
  {
   "cell_type": "code",
   "execution_count": 14,
   "metadata": {},
   "outputs": [
    {
     "ename": "NameError",
     "evalue": "name 'qc' is not defined",
     "output_type": "error",
     "traceback": [
      "\u001b[0;31m---------------------------------------------------------------------------\u001b[0m",
      "\u001b[0;31mNameError\u001b[0m                                 Traceback (most recent call last)",
      "\u001b[0;32m<ipython-input-14-77e19fd83c62>\u001b[0m in \u001b[0;36m<module>\u001b[0;34m\u001b[0m\n\u001b[0;32m----> 1\u001b[0;31m \u001b[0mqc\u001b[0m\u001b[0;34m.\u001b[0m\u001b[0mmeasure\u001b[0m\u001b[0;34m(\u001b[0m\u001b[0mqr\u001b[0m\u001b[0;34m[\u001b[0m\u001b[0;36m2\u001b[0m\u001b[0;34m]\u001b[0m\u001b[0;34m,\u001b[0m\u001b[0mcr\u001b[0m\u001b[0;34m[\u001b[0m\u001b[0;36m2\u001b[0m\u001b[0;34m]\u001b[0m\u001b[0;34m)\u001b[0m\u001b[0;34m\u001b[0m\u001b[0;34m\u001b[0m\u001b[0m\n\u001b[0m",
      "\u001b[0;31mNameError\u001b[0m: name 'qc' is not defined"
     ]
    }
   ],
   "source": [
    "qc.measure(qr[2],cr[2])"
   ]
  },
  {
   "cell_type": "code",
   "execution_count": null,
   "metadata": {},
   "outputs": [],
   "source": []
  }
 ],
 "metadata": {
  "kernelspec": {
   "display_name": "Python 3",
   "language": "python",
   "name": "python3"
  },
  "language_info": {
   "codemirror_mode": {
    "name": "ipython",
    "version": 3
   },
   "file_extension": ".py",
   "mimetype": "text/x-python",
   "name": "python",
   "nbconvert_exporter": "python",
   "pygments_lexer": "ipython3",
   "version": "3.8.0"
  }
 },
 "nbformat": 4,
 "nbformat_minor": 4
}
